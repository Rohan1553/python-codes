{
 "cells": [
  {
   "cell_type": "code",
   "execution_count": null,
   "id": "41ebd968",
   "metadata": {},
   "outputs": [],
   "source": [
    "'''\n",
    "Name - Rohan V. patel\n",
    "Email - rohanpatel1552003@gmail.com\n",
    "\n",
    "\n",
    "Programming Assignment 11\n",
    "'''"
   ]
  },
  {
   "cell_type": "code",
   "execution_count": null,
   "id": "fb9211f9",
   "metadata": {},
   "outputs": [],
   "source": [
    "'1. Write a Python program to find words which are greater than given length k?'"
   ]
  },
  {
   "cell_type": "code",
   "execution_count": 1,
   "id": "70769ce7",
   "metadata": {},
   "outputs": [
    {
     "name": "stdout",
     "output_type": "stream",
     "text": [
      "['Ironman', 'Captain America', 'Black Widow', 'Hawkeye', 'Antman', 'Superman', 'Batman']\n"
     ]
    }
   ],
   "source": [
    "def words_greater_than_k(list, k):\n",
    "    return [i for i in list if len(i) > k]\n",
    "\n",
    "list = ['Adam','Ironman','Captain America','Hulk','Black Widow','Thor','Hawkeye','Antman','Superman','Batman']\n",
    "print(words_greater_than_k(list, 5))"
   ]
  },
  {
   "cell_type": "code",
   "execution_count": null,
   "id": "f5c286d7",
   "metadata": {},
   "outputs": [],
   "source": [
    "'2. Write a Python program for removing i-th character from a string?'"
   ]
  },
  {
   "cell_type": "code",
   "execution_count": 14,
   "id": "2fa2da5e",
   "metadata": {},
   "outputs": [
    {
     "data": {
      "text/plain": [
       "'Captin America'"
      ]
     },
     "execution_count": 14,
     "metadata": {},
     "output_type": "execute_result"
    }
   ],
   "source": [
    "def remove_ith_char(string, i):\n",
    "    return string[:i] + string[i+1:]\n",
    "\n",
    "string = 'Captain America'\n",
    "remove_ith_char(string, 4)"
   ]
  },
  {
   "cell_type": "code",
   "execution_count": null,
   "id": "926b96ea",
   "metadata": {},
   "outputs": [],
   "source": [
    "'3. Write a Python program to split and join a string?'"
   ]
  },
  {
   "cell_type": "code",
   "execution_count": 15,
   "id": "42c6e043",
   "metadata": {},
   "outputs": [
    {
     "name": "stdout",
     "output_type": "stream",
     "text": [
      "CaptainAmerica\n"
     ]
    }
   ],
   "source": [
    "def split_and_join(string):\n",
    "    st = string.split()\n",
    "    return ''.join(st)\n",
    "\n",
    "print(split_and_join('Captain America'))"
   ]
  },
  {
   "cell_type": "code",
   "execution_count": null,
   "id": "4f7c6545",
   "metadata": {},
   "outputs": [],
   "source": [
    "'4. Write a Python to check if a given string is binary string or not?'"
   ]
  },
  {
   "cell_type": "code",
   "execution_count": 22,
   "id": "481dbb50",
   "metadata": {},
   "outputs": [
    {
     "name": "stdout",
     "output_type": "stream",
     "text": [
      "123456  is not a binary string\n",
      "None\n",
      "0101110 is a binary string\n",
      "None\n",
      "aneknkefn  is not a binary string\n",
      "None\n"
     ]
    }
   ],
   "source": [
    "def check_for_binary(string):\n",
    "    for s in string:\n",
    "        if s == '0' or s == '1':\n",
    "            continue\n",
    "        else:\n",
    "            print(string,' is not a binary string')\n",
    "            return\n",
    "    print(string, 'is a binary string')\n",
    "    \n",
    "print(check_for_binary('123456'))\n",
    "print(check_for_binary('0101110'))\n",
    "print(check_for_binary('aneknkefn'))\n",
    "            \n",
    "            "
   ]
  },
  {
   "cell_type": "code",
   "execution_count": null,
   "id": "35357a27",
   "metadata": {},
   "outputs": [],
   "source": [
    "'5. Write a Python program to find uncommon words from two Strings?'"
   ]
  },
  {
   "cell_type": "code",
   "execution_count": 25,
   "id": "841ce9d6",
   "metadata": {},
   "outputs": [
    {
     "data": {
      "text/plain": [
       "{'Python',\n",
       " 'Strings?',\n",
       " 'Write',\n",
       " 'a',\n",
       " 'binary',\n",
       " 'check',\n",
       " 'find',\n",
       " 'from',\n",
       " 'given',\n",
       " 'if',\n",
       " 'is',\n",
       " 'not?',\n",
       " 'or',\n",
       " 'program',\n",
       " 'string',\n",
       " 'to',\n",
       " 'two',\n",
       " 'uncommon',\n",
       " 'words'}"
      ]
     },
     "execution_count": 25,
     "metadata": {},
     "output_type": "execute_result"
    }
   ],
   "source": [
    "s1 = 'Write a Python to check if a given string is binary string or not?'\n",
    "s2 ='Write a Python program to find uncommon words from two Strings?'\n",
    "\n",
    "def uncommon_words(s1, s2):\n",
    "    s1 = set(s1.split())\n",
    "    s2 = set(s2.split())\n",
    "    \n",
    "    return s1.union(s2)\n",
    "    \n",
    "    \n",
    "uncommon_words(s1, s2)\n",
    "    "
   ]
  },
  {
   "cell_type": "code",
   "execution_count": null,
   "id": "9a696ef7",
   "metadata": {},
   "outputs": [],
   "source": [
    "'6. Write a Python to find all duplicate characters in string?'"
   ]
  },
  {
   "cell_type": "code",
   "execution_count": 27,
   "id": "2dc754ab",
   "metadata": {},
   "outputs": [
    {
     "data": {
      "text/plain": [
       "{'W': [],\n",
       " 'r': [40, 45, 53],\n",
       " 'i': [19, 31, 48, 54],\n",
       " 't': [10, 15, 34, 43, 52],\n",
       " 'e': [35, 44],\n",
       " ' ': [7, 14, 17, 22, 26, 36, 47, 50],\n",
       " 'a': [23, 33, 39, 41],\n",
       " 'P': [],\n",
       " 'y': [],\n",
       " 'h': [38],\n",
       " 'o': [16],\n",
       " 'n': [20, 49, 55],\n",
       " 'f': [],\n",
       " 'd': [27],\n",
       " 'l': [25, 30],\n",
       " 'u': [],\n",
       " 'p': [],\n",
       " 'c': [37, 42],\n",
       " 's': [51],\n",
       " 'g': [],\n",
       " '?': []}"
      ]
     },
     "execution_count": 27,
     "metadata": {},
     "output_type": "execute_result"
    }
   ],
   "source": [
    "def duplicate_chars(string):\n",
    "    dixt = {}\n",
    "    for i in range(len(string)):\n",
    "        if string[i] in dixt.keys():\n",
    "            dixt[string[i]].append(i)\n",
    "        else:\n",
    "            dixt[string[i]] = []\n",
    "    return dixt\n",
    "\n",
    "string = 'Write a Python to find all duplicate characters in string?'\n",
    "duplicate_chars(string)"
   ]
  },
  {
   "cell_type": "code",
   "execution_count": null,
   "id": "ad0b3629",
   "metadata": {},
   "outputs": [],
   "source": [
    "'7. Write a Python Program to check if a string contains any special character?'"
   ]
  },
  {
   "cell_type": "code",
   "execution_count": 28,
   "id": "badc93fd",
   "metadata": {},
   "outputs": [
    {
     "name": "stdout",
     "output_type": "stream",
     "text": [
      "String contains special character\n"
     ]
    }
   ],
   "source": [
    "def check_for_special_char(string):\n",
    "    all_list = '[@_!#$%^&*()<>?/\\|}{~:]'\n",
    "    for s in string:\n",
    "        if s in all_list:\n",
    "            print('String contains special character')\n",
    "            break\n",
    "            \n",
    "s = 'Write a Python Program to check if a string contains any special character?'\n",
    "check_for_special_char(s)"
   ]
  }
 ],
 "metadata": {
  "kernelspec": {
   "display_name": "Python 3",
   "language": "python",
   "name": "python3"
  },
  "language_info": {
   "codemirror_mode": {
    "name": "ipython",
    "version": 3
   },
   "file_extension": ".py",
   "mimetype": "text/x-python",
   "name": "python",
   "nbconvert_exporter": "python",
   "pygments_lexer": "ipython3",
   "version": "3.8.8"
  }
 },
 "nbformat": 4,
 "nbformat_minor": 5
}
