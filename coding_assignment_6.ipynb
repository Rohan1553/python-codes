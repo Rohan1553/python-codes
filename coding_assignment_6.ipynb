{
 "cells": [
  {
   "cell_type": "code",
   "execution_count": null,
   "id": "73937082",
   "metadata": {},
   "outputs": [],
   "source": [
    "'''\n",
    "Name - Rohan V. patel\n",
    "Email - rohanpatel1552003@gmail.com\n",
    "\n",
    "\n",
    "Programming Assignment 6\n",
    "'''"
   ]
  },
  {
   "cell_type": "code",
   "execution_count": null,
   "id": "dee1fc74",
   "metadata": {},
   "outputs": [],
   "source": [
    "'1. Write a Python Program to Display Fibonacci Sequence Using Recursion?'"
   ]
  },
  {
   "cell_type": "code",
   "execution_count": 5,
   "id": "74c073c6",
   "metadata": {},
   "outputs": [
    {
     "name": "stdout",
     "output_type": "stream",
     "text": [
      "1\n",
      "1\n",
      "2\n",
      "3\n",
      "5\n",
      "8\n",
      "13\n",
      "21\n",
      "34\n",
      "55\n",
      "3\n",
      "5\n",
      "8\n",
      "13\n",
      "21\n"
     ]
    }
   ],
   "source": [
    "a = 1\n",
    "b = 1\n",
    "def fibonacci(a,b,n):\n",
    "    if n == 0:\n",
    "        return\n",
    "    else:\n",
    "        print(a)\n",
    "        a, b = b, a+b\n",
    "        fibonacci(a,b,n-1)\n",
    "        \n",
    "fibonacci(1,1,10) #first 10 terms\n",
    "fibonacci(3,5,5) #fibonacci starting from 3 and 5"
   ]
  },
  {
   "cell_type": "code",
   "execution_count": null,
   "id": "6a991d9a",
   "metadata": {},
   "outputs": [],
   "source": [
    "'2. Write a Python Program to Find Factorial of Number Using Recursion?'"
   ]
  },
  {
   "cell_type": "code",
   "execution_count": 6,
   "id": "791f796b",
   "metadata": {},
   "outputs": [
    {
     "name": "stdout",
     "output_type": "stream",
     "text": [
      "120\n",
      "40320\n"
     ]
    }
   ],
   "source": [
    "def factorial(number):\n",
    "    if number == 0 or number == 1:\n",
    "        return 1\n",
    "    else:\n",
    "        return number*factorial(number-1)\n",
    "    \n",
    "print(factorial(5))\n",
    "print(factorial(8))"
   ]
  },
  {
   "cell_type": "code",
   "execution_count": null,
   "id": "0e1ee95d",
   "metadata": {},
   "outputs": [],
   "source": [
    "'3. Write a Python Program to calculate your Body Mass Index?'"
   ]
  },
  {
   "cell_type": "code",
   "execution_count": 14,
   "id": "5129064d",
   "metadata": {},
   "outputs": [
    {
     "name": "stdout",
     "output_type": "stream",
     "text": [
      "Overweight\n",
      "27.942143326758707\n"
     ]
    }
   ],
   "source": [
    "def bmi_index(height,weight):\n",
    "    bmi = (weight/height**2)*100000\n",
    "    if bmi < 18.5:\n",
    "        print('Underweight')\n",
    "    elif bmi < 24.9:\n",
    "        print('Normal weight')\n",
    "    elif bmi < 29.9:\n",
    "        print('Overweight')\n",
    "    else:\n",
    "        print('Obesity')\n",
    "    return bmi\n",
    "\n",
    "print(bmi_index(78,1.70))"
   ]
  },
  {
   "cell_type": "code",
   "execution_count": null,
   "id": "fb696ce6",
   "metadata": {},
   "outputs": [],
   "source": [
    "'4. Write a Python Program to calculate the natural logarithm of any number?'"
   ]
  },
  {
   "cell_type": "code",
   "execution_count": 15,
   "id": "ab505e09",
   "metadata": {},
   "outputs": [
    {
     "name": "stdout",
     "output_type": "stream",
     "text": [
      "0.6931471805599453\n",
      "2.0794415416798357\n"
     ]
    }
   ],
   "source": [
    "import numpy as np\n",
    "\n",
    "def log_of_num(number):\n",
    "    return np.log(number)\n",
    "\n",
    "print(log_of_num(2))\n",
    "print(log_of_num(8))"
   ]
  },
  {
   "cell_type": "code",
   "execution_count": null,
   "id": "04600ef3",
   "metadata": {},
   "outputs": [],
   "source": [
    "'5. Write a Python Program for cube sum of first n natural numbers?'"
   ]
  },
  {
   "cell_type": "code",
   "execution_count": 16,
   "id": "93d0a040",
   "metadata": {},
   "outputs": [
    {
     "name": "stdout",
     "output_type": "stream",
     "text": [
      "36\n",
      "100\n"
     ]
    }
   ],
   "source": [
    "def sum_cube_of_nutural_numbers(n):\n",
    "    sum = 0\n",
    "    for i in range(1,n+1):\n",
    "        sum += i**3\n",
    "    return sum\n",
    "\n",
    "print(sum_cube_of_nutural_numbers(3))\n",
    "print(sum_cube_of_nutural_numbers(4))"
   ]
  }
 ],
 "metadata": {
  "kernelspec": {
   "display_name": "Python 3",
   "language": "python",
   "name": "python3"
  },
  "language_info": {
   "codemirror_mode": {
    "name": "ipython",
    "version": 3
   },
   "file_extension": ".py",
   "mimetype": "text/x-python",
   "name": "python",
   "nbconvert_exporter": "python",
   "pygments_lexer": "ipython3",
   "version": "3.8.8"
  }
 },
 "nbformat": 4,
 "nbformat_minor": 5
}
