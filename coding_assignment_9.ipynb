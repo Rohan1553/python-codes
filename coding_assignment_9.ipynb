{
 "cells": [
  {
   "cell_type": "code",
   "execution_count": null,
   "id": "acce8a65",
   "metadata": {},
   "outputs": [],
   "source": [
    "'''\n",
    "Name - Rohan V. patel\n",
    "Email - rohanpatel1552003@gmail.com\n",
    "\n",
    "\n",
    "Programming Assignment 9\n",
    "'''"
   ]
  },
  {
   "cell_type": "code",
   "execution_count": null,
   "id": "33f4a6d7",
   "metadata": {},
   "outputs": [],
   "source": [
    "'1. Write a Python program to check if the given number is a Disarium Number?'"
   ]
  },
  {
   "cell_type": "code",
   "execution_count": 5,
   "id": "77fba8a2",
   "metadata": {},
   "outputs": [
    {
     "name": "stdout",
     "output_type": "stream",
     "text": [
      "Given number is a disarium number.\n",
      "Given number is a disarium number.\n"
     ]
    }
   ],
   "source": [
    "#A number is called Disarium if sum of its digits powered with their respective positions is equal to the number itself\n",
    "\n",
    "def check_disarium(number):\n",
    "    sum = 0\n",
    "    len_of_num = len(str(number))\n",
    "    n = number\n",
    "    while n>0:\n",
    "        i = n%10\n",
    "        sum = sum + i**len_of_num\n",
    "        n = n//10\n",
    "        len_of_num = len_of_num - 1\n",
    "    if sum == number:\n",
    "        print('Given number is a disarium number.')\n",
    "        return 1\n",
    "    else:\n",
    "        print('Given number is not a disarium number.')\n",
    "        return 0\n",
    "        \n",
    "check_disarium(89)\n",
    "check_disarium(1)"
   ]
  },
  {
   "cell_type": "code",
   "execution_count": 6,
   "id": "e85ada00",
   "metadata": {},
   "outputs": [
    {
     "data": {
      "text/plain": [
       "'2. Write a Python program to print all disarium numbers between 1 to 100?'"
      ]
     },
     "execution_count": 6,
     "metadata": {},
     "output_type": "execute_result"
    }
   ],
   "source": [
    "'2. Write a Python program to print all disarium numbers between 1 to 100?'"
   ]
  },
  {
   "cell_type": "code",
   "execution_count": 10,
   "id": "21cded21",
   "metadata": {},
   "outputs": [
    {
     "name": "stdout",
     "output_type": "stream",
     "text": [
      "Given number is a disarium number. 1\n",
      "Given number is a disarium number. 2\n",
      "Given number is a disarium number. 3\n",
      "Given number is a disarium number. 4\n",
      "Given number is a disarium number. 5\n",
      "Given number is a disarium number. 6\n",
      "Given number is a disarium number. 7\n",
      "Given number is a disarium number. 8\n",
      "Given number is a disarium number. 9\n",
      "Given number is a disarium number. 89\n"
     ]
    }
   ],
   "source": [
    "for num in range(1,101):\n",
    "    sum = 0\n",
    "    len_of_num = len(str(num))\n",
    "    n = num\n",
    "    while n>0:\n",
    "        i = n%10\n",
    "        sum = sum + i**len_of_num\n",
    "        n = n//10\n",
    "        len_of_num = len_of_num - 1\n",
    "    if sum == num:\n",
    "        print('Given number is a disarium number.', num)"
   ]
  },
  {
   "cell_type": "code",
   "execution_count": null,
   "id": "c9cb6e37",
   "metadata": {},
   "outputs": [],
   "source": [
    "'3. Write a Python program to check if the given number is Happy Number?'"
   ]
  },
  {
   "cell_type": "code",
   "execution_count": 23,
   "id": "6e8c722e",
   "metadata": {},
   "outputs": [
    {
     "name": "stdout",
     "output_type": "stream",
     "text": [
      "Given number is a happy number\n"
     ]
    }
   ],
   "source": [
    "def happy_number(number):\n",
    "    if number == 1 | number == 7:\n",
    "        return 1\n",
    "    Sum = number\n",
    "    n = number\n",
    "    while Sum > 9:\n",
    "        Sum = 0\n",
    "        while n > 0:\n",
    "            d = n%10\n",
    "            Sum = Sum + d*d\n",
    "            n = n//10\n",
    "        if Sum == 1:\n",
    "            return 1\n",
    "        n = Sum\n",
    "    if Sum == 7:\n",
    "        return 1\n",
    "    return 0\n",
    "\n",
    "number = 13\n",
    "if(happy_number(number)):\n",
    "    print('Given number is a happy number')"
   ]
  },
  {
   "cell_type": "code",
   "execution_count": null,
   "id": "6a10d8ff",
   "metadata": {},
   "outputs": [],
   "source": [
    "'4. Write a Python program to print all happy numbers between 1 and 100?'"
   ]
  },
  {
   "cell_type": "code",
   "execution_count": 24,
   "id": "df8e760d",
   "metadata": {},
   "outputs": [
    {
     "name": "stdout",
     "output_type": "stream",
     "text": [
      "7  is a happy number\n",
      "10  is a happy number\n",
      "13  is a happy number\n",
      "19  is a happy number\n",
      "23  is a happy number\n",
      "28  is a happy number\n",
      "31  is a happy number\n",
      "32  is a happy number\n",
      "44  is a happy number\n",
      "49  is a happy number\n",
      "68  is a happy number\n",
      "70  is a happy number\n",
      "79  is a happy number\n",
      "82  is a happy number\n",
      "86  is a happy number\n",
      "91  is a happy number\n",
      "94  is a happy number\n",
      "97  is a happy number\n",
      "100  is a happy number\n"
     ]
    }
   ],
   "source": [
    "for i in range(1,101):\n",
    "    if(happy_number(i)):\n",
    "        print(i,' is a happy number')"
   ]
  },
  {
   "cell_type": "code",
   "execution_count": null,
   "id": "c14e1429",
   "metadata": {},
   "outputs": [],
   "source": [
    "'5. Write a Python program to determine whether the given number is a Harshad Number?'"
   ]
  },
  {
   "cell_type": "code",
   "execution_count": 26,
   "id": "9c5da1aa",
   "metadata": {},
   "outputs": [
    {
     "name": "stdout",
     "output_type": "stream",
     "text": [
      "21 is harshad number\n"
     ]
    }
   ],
   "source": [
    "#In mathematics, a harshad number (or Niven number) in a given number base is an integer that is divisible by the sum of its digits when written in that base.\n",
    "\n",
    "def is_harshad(number):\n",
    "    n = number\n",
    "    sum = 0\n",
    "    while n>0:\n",
    "        sum = sum + (n%10)\n",
    "        n = n//10\n",
    "    if number%sum == 0:\n",
    "        return 1\n",
    "    else:\n",
    "        return 0\n",
    "    \n",
    "if(is_harshad(21)):\n",
    "    print(21,'is a harshad number')"
   ]
  },
  {
   "cell_type": "code",
   "execution_count": null,
   "id": "9d5ec619",
   "metadata": {},
   "outputs": [],
   "source": [
    "'6. Write a Python program to print all pronic numbers between 1 and 100?'"
   ]
  },
  {
   "cell_type": "code",
   "execution_count": 27,
   "id": "6498fdce",
   "metadata": {},
   "outputs": [
    {
     "name": "stdout",
     "output_type": "stream",
     "text": [
      "1 is a harshad number\n",
      "2 is a harshad number\n",
      "3 is a harshad number\n",
      "4 is a harshad number\n",
      "5 is a harshad number\n",
      "6 is a harshad number\n",
      "7 is a harshad number\n",
      "8 is a harshad number\n",
      "9 is a harshad number\n",
      "10 is a harshad number\n",
      "12 is a harshad number\n",
      "18 is a harshad number\n",
      "20 is a harshad number\n",
      "21 is a harshad number\n",
      "24 is a harshad number\n",
      "27 is a harshad number\n",
      "30 is a harshad number\n",
      "36 is a harshad number\n",
      "40 is a harshad number\n",
      "42 is a harshad number\n",
      "45 is a harshad number\n",
      "48 is a harshad number\n",
      "50 is a harshad number\n",
      "54 is a harshad number\n",
      "60 is a harshad number\n",
      "63 is a harshad number\n",
      "70 is a harshad number\n",
      "72 is a harshad number\n",
      "80 is a harshad number\n",
      "81 is a harshad number\n",
      "84 is a harshad number\n",
      "90 is a harshad number\n",
      "100 is a harshad number\n"
     ]
    }
   ],
   "source": [
    "for i in range(1,101):\n",
    "    if(is_harshad(i)):\n",
    "        print(i,'is a harshad number')"
   ]
  }
 ],
 "metadata": {
  "kernelspec": {
   "display_name": "Python 3",
   "language": "python",
   "name": "python3"
  },
  "language_info": {
   "codemirror_mode": {
    "name": "ipython",
    "version": 3
   },
   "file_extension": ".py",
   "mimetype": "text/x-python",
   "name": "python",
   "nbconvert_exporter": "python",
   "pygments_lexer": "ipython3",
   "version": "3.8.8"
  }
 },
 "nbformat": 4,
 "nbformat_minor": 5
}
