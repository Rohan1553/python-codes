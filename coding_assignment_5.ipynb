{
 "cells": [
  {
   "cell_type": "code",
   "execution_count": null,
   "id": "ca5b5df0",
   "metadata": {},
   "outputs": [],
   "source": [
    "'''\n",
    "Name - Rohan V. patel\n",
    "Email - rohanpatel1552003@gmail.com\n",
    "\n",
    "\n",
    "Programming Assignment 5\n",
    "'''"
   ]
  },
  {
   "cell_type": "code",
   "execution_count": null,
   "id": "c8caa36d",
   "metadata": {},
   "outputs": [],
   "source": [
    "'1. Write a Python Program to Find LCM?'"
   ]
  },
  {
   "cell_type": "code",
   "execution_count": 13,
   "id": "2cc913b6",
   "metadata": {},
   "outputs": [
    {
     "name": "stdout",
     "output_type": "stream",
     "text": [
      "20\n",
      "3\n",
      "72\n"
     ]
    }
   ],
   "source": [
    "def lcm_of_two_numbers(a,b):\n",
    "    \n",
    "    return int((a*b)/gcd_of_two_numbers(a,b))\n",
    "\n",
    "print(lcm_of_two_numbers(4,20))\n",
    "print(lcm_of_two_numbers(1,3))\n",
    "print(lcm_of_two_numbers(24,36))"
   ]
  },
  {
   "cell_type": "code",
   "execution_count": null,
   "id": "1ad4e9cf",
   "metadata": {},
   "outputs": [],
   "source": [
    "'2. Write a Python Program to Find HCF?'"
   ]
  },
  {
   "cell_type": "code",
   "execution_count": 11,
   "id": "f1f833ad",
   "metadata": {},
   "outputs": [
    {
     "name": "stdout",
     "output_type": "stream",
     "text": [
      "4\n",
      "1\n",
      "12\n"
     ]
    }
   ],
   "source": [
    "def gcd_of_two_numbers(a,b):\n",
    "    c = a if a <= b else b\n",
    "\n",
    "    gcd = 1\n",
    "    for i in range(2,c+1):\n",
    "        if a%i == 0 and b%i == 0:\n",
    "            gcd = i\n",
    "        else:\n",
    "            continue\n",
    "    return gcd\n",
    "\n",
    "print(gcd_of_two_numbers(4,20))\n",
    "print(gcd_of_two_numbers(1,3))\n",
    "print(gcd_of_two_numbers(24,36))"
   ]
  },
  {
   "cell_type": "code",
   "execution_count": null,
   "id": "24e79cdb",
   "metadata": {},
   "outputs": [],
   "source": [
    "'3. Write a Python Program to Convert Decimal to Binary, Octal and Hexadecimal?'"
   ]
  },
  {
   "cell_type": "code",
   "execution_count": 30,
   "id": "650b1665",
   "metadata": {},
   "outputs": [
    {
     "name": "stdout",
     "output_type": "stream",
     "text": [
      "Conversions for 164\n",
      "\n",
      "Decimal to Binary number: \n",
      "10100100\n",
      "\n",
      "Decimal to Octal number: \n",
      "244\n",
      "\n",
      "Decimal to Hexadecimal number: \n",
      "A4\n",
      "Conversions for 60\n",
      "\n",
      "Decimal to Binary number: \n",
      "111100\n",
      "\n",
      "Decimal to Octal number: \n",
      "74\n",
      "\n",
      "Decimal to Hexadecimal number: \n",
      "3C\n"
     ]
    }
   ],
   "source": [
    "def decimal_to_binary_octal_hexadecimal(number):\n",
    "    temp = number\n",
    "    \n",
    "    print('Conversions for {}\\n'.format(number))\n",
    "    \n",
    "    binary_string = ''\n",
    "    while(temp>0):\n",
    "        binary_string += str(temp%2)\n",
    "        temp = int(temp/2)\n",
    "    \n",
    "    print('Decimal to Binary number: ')\n",
    "    print(''.join(reversed(binary_string)))\n",
    "    \n",
    "    temp = number\n",
    "    octal_string = ''\n",
    "    while(temp>0):\n",
    "        octal_string += str(temp%8)\n",
    "        temp = int(temp/8)\n",
    "    \n",
    "    print('\\nDecimal to Octal number: ')\n",
    "    print(''.join(reversed(octal_string)))\n",
    "    \n",
    "    temp = number\n",
    "    hexadecimal_string = ''\n",
    "    \n",
    "    conversion_table = {0: '0', 1: '1', 2: '2', 3: '3',\n",
    "                        4: '4',5: '5', 6: '6', 7: '7',\n",
    "                        8: '8', 9: '9', 10: 'A', 11: 'B',\n",
    "                        12: 'C',13: 'D', 14: 'E', 15: 'F'}\n",
    "    while(temp>0):\n",
    "\n",
    "        hexadecimal_string += str(conversion_table[temp%16])        \n",
    "        temp = int(temp/16)\n",
    "    \n",
    "    print('\\nDecimal to Hexadecimal number: ')\n",
    "    print(''.join(reversed(hexadecimal_string)))\n",
    "    \n",
    "    \n",
    "    \n",
    "decimal_to_binary_octal_hexadecimal(164)\n",
    "decimal_to_binary_octal_hexadecimal(60)"
   ]
  },
  {
   "cell_type": "code",
   "execution_count": null,
   "id": "896ada8c",
   "metadata": {},
   "outputs": [],
   "source": [
    "'4. Write a Python Program To Find ASCII value of a character?'"
   ]
  },
  {
   "cell_type": "code",
   "execution_count": 36,
   "id": "110cb048",
   "metadata": {},
   "outputs": [
    {
     "name": "stdout",
     "output_type": "stream",
     "text": [
      "65\n",
      "97\n",
      "42\n"
     ]
    }
   ],
   "source": [
    "def ascii_value(char):\n",
    "    print(ord(char)) # ord is an inbuilt function in python to get ASCII values\n",
    "\n",
    "ascii_value('A')\n",
    "ascii_value('a')\n",
    "ascii_value('*')"
   ]
  },
  {
   "cell_type": "code",
   "execution_count": null,
   "id": "229f24f2",
   "metadata": {},
   "outputs": [],
   "source": [
    "'5. Write a Python Program to Make a Simple Calculator with 4 basic mathematical operations?'"
   ]
  },
  {
   "cell_type": "code",
   "execution_count": 37,
   "id": "e96d8b7a",
   "metadata": {},
   "outputs": [
    {
     "name": "stdout",
     "output_type": "stream",
     "text": [
      "30\n",
      "10\n",
      "200\n",
      "2.0\n",
      "invalid numbers for given operation\n",
      "None\n",
      "Operation in not valid.\n",
      "None\n"
     ]
    }
   ],
   "source": [
    "def basic_calculator(number_1, number_2, operation):\n",
    "    if operation == '+':\n",
    "        return number_1 + number_2\n",
    "    elif operation == '-':\n",
    "        return number_1 - number_2\n",
    "    elif operation == '*':\n",
    "        return number_1*number_2\n",
    "    elif operation == '/':\n",
    "        if number_2 == 0:\n",
    "            print('invalid numbers for given operation')\n",
    "        else:\n",
    "            return number_1/number_2\n",
    "    else:\n",
    "        print('Operation in not valid.')\n",
    "        \n",
    "print(basic_calculator(20,10,'+'))\n",
    "print(basic_calculator(20,10,'-'))\n",
    "print(basic_calculator(20,10,'*'))\n",
    "print(basic_calculator(20,10,'/'))\n",
    "print(basic_calculator(20,0,'/'))\n",
    "print(basic_calculator(20,10,'^'))"
   ]
  }
 ],
 "metadata": {
  "kernelspec": {
   "display_name": "Python 3",
   "language": "python",
   "name": "python3"
  },
  "language_info": {
   "codemirror_mode": {
    "name": "ipython",
    "version": 3
   },
   "file_extension": ".py",
   "mimetype": "text/x-python",
   "name": "python",
   "nbconvert_exporter": "python",
   "pygments_lexer": "ipython3",
   "version": "3.8.8"
  }
 },
 "nbformat": 4,
 "nbformat_minor": 5
}
