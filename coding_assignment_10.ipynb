{
 "cells": [
  {
   "cell_type": "code",
   "execution_count": null,
   "id": "202470ee",
   "metadata": {},
   "outputs": [],
   "source": [
    "'''\n",
    "Name - Rohan V. patel\n",
    "Email - rohanpatel1552003@gmail.com\n",
    "\n",
    "\n",
    "Programming Assignment 10\n",
    "'''"
   ]
  },
  {
   "cell_type": "code",
   "execution_count": null,
   "id": "6e1b6749",
   "metadata": {},
   "outputs": [],
   "source": [
    "'1. Write a Python program to find sum of elements in list?'"
   ]
  },
  {
   "cell_type": "code",
   "execution_count": 1,
   "id": "dcadbf0e",
   "metadata": {},
   "outputs": [
    {
     "name": "stdout",
     "output_type": "stream",
     "text": [
      "215\n"
     ]
    }
   ],
   "source": [
    "def sum_of_list(list):\n",
    "    sum = 0\n",
    "    for i in range(len(list)):\n",
    "        sum = sum + list[i]\n",
    "    return sum\n",
    "\n",
    "list = [23,5,12,6,78,91]\n",
    "print(sum_of_list(list))"
   ]
  },
  {
   "cell_type": "code",
   "execution_count": null,
   "id": "05302322",
   "metadata": {},
   "outputs": [],
   "source": [
    "'2. Write a Python program to Multiply all numbers in the list?'"
   ]
  },
  {
   "cell_type": "code",
   "execution_count": 4,
   "id": "253a2c44",
   "metadata": {},
   "outputs": [
    {
     "name": "stdout",
     "output_type": "stream",
     "text": [
      "68040\n"
     ]
    }
   ],
   "source": [
    "def mul_of_list(list):\n",
    "    sum = 1\n",
    "    for i in range(len(list)):\n",
    "        sum = sum*list[i]\n",
    "    return sum\n",
    "\n",
    "list = [3,5,12,6,7,9]\n",
    "print(mul_of_list(list))"
   ]
  },
  {
   "cell_type": "code",
   "execution_count": null,
   "id": "2223afdc",
   "metadata": {},
   "outputs": [],
   "source": [
    "'3. Write a Python program to find smallest number in a list?'"
   ]
  },
  {
   "cell_type": "code",
   "execution_count": 5,
   "id": "3dc9ecaf",
   "metadata": {},
   "outputs": [
    {
     "name": "stdout",
     "output_type": "stream",
     "text": [
      "-2\n"
     ]
    }
   ],
   "source": [
    "def min_in_list(list):\n",
    "    min = list[0]\n",
    "    for i in range(len(list)):\n",
    "        if list[i] < min:\n",
    "            min = list[i]\n",
    "    return min\n",
    "\n",
    "list = [3,5,12,6,7,-2]\n",
    "print(min_in_list(list))"
   ]
  },
  {
   "cell_type": "code",
   "execution_count": null,
   "id": "902a913d",
   "metadata": {},
   "outputs": [],
   "source": [
    "'4. Write a Python program to find largest number in a list?'"
   ]
  },
  {
   "cell_type": "code",
   "execution_count": 6,
   "id": "d63ed6ab",
   "metadata": {},
   "outputs": [
    {
     "name": "stdout",
     "output_type": "stream",
     "text": [
      "12\n"
     ]
    }
   ],
   "source": [
    "def max_in_list(list):\n",
    "    max = list[0]\n",
    "    for i in range(len(list)):\n",
    "        if list[i] > max:\n",
    "            max = list[i]\n",
    "    return max\n",
    "\n",
    "list = [3,5,12,6,7,-2]\n",
    "print(max_in_list(list))"
   ]
  },
  {
   "cell_type": "code",
   "execution_count": null,
   "id": "be2fc783",
   "metadata": {},
   "outputs": [],
   "source": [
    "'5. Write a Python program to find second largest number in a list?'"
   ]
  },
  {
   "cell_type": "code",
   "execution_count": 7,
   "id": "b6152051",
   "metadata": {},
   "outputs": [
    {
     "name": "stdout",
     "output_type": "stream",
     "text": [
      "7\n"
     ]
    }
   ],
   "source": [
    "def second_largest(list):\n",
    "    list = sorted(list)\n",
    "    return list[-2]\n",
    "\n",
    "list = [3,5,12,6,7,-2]\n",
    "print(second_largest(list))"
   ]
  },
  {
   "cell_type": "code",
   "execution_count": null,
   "id": "2df617e6",
   "metadata": {},
   "outputs": [],
   "source": [
    "'6. Write a Python program to find N largest elements from a list?'"
   ]
  },
  {
   "cell_type": "code",
   "execution_count": 8,
   "id": "1e2b9e1e",
   "metadata": {},
   "outputs": [
    {
     "name": "stdout",
     "output_type": "stream",
     "text": [
      "[23, 78, 91]\n"
     ]
    }
   ],
   "source": [
    "def N_largest(list,N):\n",
    "    list = sorted(list)\n",
    "    return list[-N:]\n",
    "\n",
    "list = [23,5,12,6,78,91]\n",
    "print(N_largest(list,3))"
   ]
  },
  {
   "cell_type": "code",
   "execution_count": null,
   "id": "f2997679",
   "metadata": {},
   "outputs": [],
   "source": [
    "'7. Write a Python program to print even numbers in a list?'"
   ]
  },
  {
   "cell_type": "code",
   "execution_count": 13,
   "id": "b9c505f0",
   "metadata": {},
   "outputs": [
    {
     "name": "stdout",
     "output_type": "stream",
     "text": [
      "12\n",
      "6\n",
      "78\n",
      "None\n"
     ]
    }
   ],
   "source": [
    "def print_even_numbers(list):\n",
    "    for l in list:\n",
    "        if l%2 == 0:\n",
    "            print(l)\n",
    "        \n",
    "list = [23,5,12,6,78,91]\n",
    "print(print_even_numbers(list))"
   ]
  },
  {
   "cell_type": "code",
   "execution_count": null,
   "id": "32bb32fd",
   "metadata": {},
   "outputs": [],
   "source": [
    "'8. Write a Python program to print odd numbers in a List?'"
   ]
  },
  {
   "cell_type": "code",
   "execution_count": 14,
   "id": "6e4c93fe",
   "metadata": {},
   "outputs": [
    {
     "name": "stdout",
     "output_type": "stream",
     "text": [
      "23\n",
      "5\n",
      "91\n",
      "None\n"
     ]
    }
   ],
   "source": [
    "def print_odd_numbers(list):\n",
    "    for l in list:\n",
    "        if l%2 != 0:\n",
    "            print(l)\n",
    "        \n",
    "list = [23,5,12,6,78,91]\n",
    "print(print_odd_numbers(list))"
   ]
  },
  {
   "cell_type": "code",
   "execution_count": null,
   "id": "b041122e",
   "metadata": {},
   "outputs": [],
   "source": [
    "'9. Write a Python program to Remove empty List from List?'"
   ]
  },
  {
   "cell_type": "code",
   "execution_count": 29,
   "id": "30e0e443",
   "metadata": {},
   "outputs": [
    {
     "name": "stdout",
     "output_type": "stream",
     "text": [
      "[[1, 2, 3], [6, 7, 8]]\n"
     ]
    }
   ],
   "source": [
    "list2 = [[1,2,3],\n",
    "        [],\n",
    "        [6,7,8]]\n",
    "\n",
    "def delete_empty_list(list):\n",
    "    list = [i for i in list if i != []]\n",
    "    return list\n",
    "\n",
    "list2 = delete_empty_list(list2)\n",
    "print(list2)"
   ]
  },
  {
   "cell_type": "code",
   "execution_count": 30,
   "id": "2ccfc403",
   "metadata": {},
   "outputs": [
    {
     "data": {
      "text/plain": [
       "'10. Write a Python program to Cloning or Copying a list?'"
      ]
     },
     "execution_count": 30,
     "metadata": {},
     "output_type": "execute_result"
    }
   ],
   "source": [
    "'10. Write a Python program to Cloning or Copying a list?'"
   ]
  },
  {
   "cell_type": "code",
   "execution_count": 32,
   "id": "b1618fd2",
   "metadata": {},
   "outputs": [
    {
     "name": "stdout",
     "output_type": "stream",
     "text": [
      "[[1, 2, 3], [4, 5], [6, 7, 8]]\n"
     ]
    }
   ],
   "source": [
    "list2 = [[1,2,3],\n",
    "        [4,5],\n",
    "        [6,7,8]]\n",
    "\n",
    "def clone_list(list):\n",
    "    list1 = [i for i in list]\n",
    "    return list1\n",
    "\n",
    "list1 = clone_list(list2)\n",
    "print(list1)"
   ]
  },
  {
   "cell_type": "code",
   "execution_count": null,
   "id": "d4664edc",
   "metadata": {},
   "outputs": [],
   "source": [
    "'11. Write a Python program to Count occurrences of an element in a list?'"
   ]
  },
  {
   "cell_type": "code",
   "execution_count": 33,
   "id": "c8b53ef8",
   "metadata": {},
   "outputs": [
    {
     "name": "stdout",
     "output_type": "stream",
     "text": [
      "{2: 4, 3: 5, 4: 2, 5: 2, 6: 3, 7: 3, 8: 1}\n"
     ]
    }
   ],
   "source": [
    "list1 = [2,3,4,5,2,3,6,7,8,7,6,7,6,3,2,3,4,5,2,3]\n",
    "\n",
    "def count_occurrences(list1):\n",
    "    dixt = dict()\n",
    "    for i in list1:\n",
    "        if i in dixt.keys():\n",
    "            dixt[i] = dixt[i] + 1\n",
    "        else:\n",
    "            dixt[i] = 1\n",
    "    return dixt\n",
    "\n",
    "dixt = count_occurrences(list1)\n",
    "print(dixt)"
   ]
  }
 ],
 "metadata": {
  "kernelspec": {
   "display_name": "Python 3",
   "language": "python",
   "name": "python3"
  },
  "language_info": {
   "codemirror_mode": {
    "name": "ipython",
    "version": 3
   },
   "file_extension": ".py",
   "mimetype": "text/x-python",
   "name": "python",
   "nbconvert_exporter": "python",
   "pygments_lexer": "ipython3",
   "version": "3.8.8"
  }
 },
 "nbformat": 4,
 "nbformat_minor": 5
}
