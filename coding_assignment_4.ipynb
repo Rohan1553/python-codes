{
 "cells": [
  {
   "cell_type": "code",
   "execution_count": 1,
   "id": "9dd3a596",
   "metadata": {},
   "outputs": [
    {
     "data": {
      "text/plain": [
       "'\\nName - Rohan V. patel\\nEmail - rohanpatel1552003@gmail.com\\n\\n\\nProgramming Assignment 4\\n'"
      ]
     },
     "execution_count": 1,
     "metadata": {},
     "output_type": "execute_result"
    }
   ],
   "source": [
    "'''\n",
    "Name - Rohan V. patel\n",
    "Email - rohanpatel1552003@gmail.com\n",
    "\n",
    "\n",
    "Programming Assignment 4\n",
    "'''"
   ]
  },
  {
   "cell_type": "code",
   "execution_count": null,
   "id": "6289f066",
   "metadata": {},
   "outputs": [],
   "source": [
    "'1. Write a Python Program to Find the Factorial of a Number?'"
   ]
  },
  {
   "cell_type": "code",
   "execution_count": 4,
   "id": "5e037514",
   "metadata": {},
   "outputs": [
    {
     "name": "stdout",
     "output_type": "stream",
     "text": [
      "1\n",
      "1\n",
      "Invalid Input\n",
      "None\n",
      "120\n"
     ]
    }
   ],
   "source": [
    "def factorial(number):\n",
    "    if number == 0 or number == 1:\n",
    "        return 1\n",
    "    elif number > 0:\n",
    "        factorial = 1\n",
    "        for i in range(2,number+1):\n",
    "            factorial = factorial*i\n",
    "        return factorial\n",
    "    else:\n",
    "        print('Invalid Input')\n",
    "    \n",
    "print(factorial(0))\n",
    "print(factorial(1))\n",
    "print(factorial(-3))\n",
    "print(factorial(5))"
   ]
  },
  {
   "cell_type": "code",
   "execution_count": null,
   "id": "4103625a",
   "metadata": {},
   "outputs": [],
   "source": [
    "'2. Write a Python Program to Display the multiplication Table?'"
   ]
  },
  {
   "cell_type": "code",
   "execution_count": 7,
   "id": "0c3ab61a",
   "metadata": {},
   "outputs": [
    {
     "name": "stdout",
     "output_type": "stream",
     "text": [
      "Enter Number for which you want multiplication table to be printed:12\n",
      "12*1=12 \n",
      "\n",
      "12*2=24 \n",
      "\n",
      "12*3=36 \n",
      "\n",
      "12*4=48 \n",
      "\n",
      "12*5=60 \n",
      "\n",
      "12*6=72 \n",
      "\n",
      "12*7=84 \n",
      "\n",
      "12*8=96 \n",
      "\n",
      "12*9=108 \n",
      "\n",
      "12*10=120 \n",
      "\n"
     ]
    }
   ],
   "source": [
    "\n",
    "def multiplication_table(number):\n",
    "    for i in range(1,11):\n",
    "        print(str(number) + '*' + str(i) + '=' + str(number*i) ,'\\n')\n",
    "        \n",
    "number = int(input('Enter Number for which you want multiplication table to be printed:'))\n",
    "multiplication_table(number)"
   ]
  },
  {
   "cell_type": "code",
   "execution_count": null,
   "id": "b0147298",
   "metadata": {},
   "outputs": [],
   "source": [
    "'3. Write a Python Program to Print the Fibonacci sequence?'"
   ]
  },
  {
   "cell_type": "code",
   "execution_count": 10,
   "id": "3a72008f",
   "metadata": {},
   "outputs": [
    {
     "name": "stdout",
     "output_type": "stream",
     "text": [
      "1\n",
      "1\n",
      "2\n",
      "3\n",
      "5\n",
      "8\n",
      "13\n",
      "21\n",
      "34\n",
      "55\n",
      "1\n",
      "1\n",
      "2\n",
      "3\n",
      "5\n",
      "8\n",
      "13\n",
      "21\n",
      "34\n",
      "55\n",
      "89\n",
      "144\n",
      "233\n",
      "377\n",
      "610\n"
     ]
    }
   ],
   "source": [
    "def print_fibonacci(n_terms): #this function expects argument n_terms which is how many di want to get printed\n",
    "    a = 1\n",
    "    b = 1\n",
    "    print(a)\n",
    "    print(b)\n",
    "    for i in range(1,n_terms-1):\n",
    "        a, b = b, a+b\n",
    "        print(b)\n",
    "        \n",
    "#printing 10 fibonacci terms\n",
    "print_fibonacci(10)\n",
    "#printing 15 fibonacci terms\n",
    "print_fibonacci(15)"
   ]
  },
  {
   "cell_type": "code",
   "execution_count": null,
   "id": "00666fd0",
   "metadata": {},
   "outputs": [],
   "source": [
    "'4. Write a Python Program to Check Armstrong Number?'"
   ]
  },
  {
   "cell_type": "code",
   "execution_count": 21,
   "id": "f2c1dc68",
   "metadata": {},
   "outputs": [
    {
     "name": "stdout",
     "output_type": "stream",
     "text": [
      "Given number is a armstrong number.\n",
      "Given number is not a armstrong number.\n"
     ]
    }
   ],
   "source": [
    "def check_for_armstrong(number):\n",
    "    temp = number #assigning number to temp variable\n",
    "    sum = 0       #calculating sum\n",
    "    \n",
    "    while(temp>0):\n",
    "        sum = sum + (temp%10)**3\n",
    "        temp = int(temp/10)\n",
    "        \n",
    "    if number == sum:\n",
    "        print('Given number is a armstrong number.')\n",
    "    else:\n",
    "        print('Given number is not a armstrong number.')\n",
    "        \n",
    "check_for_armstrong(153)\n",
    "check_for_armstrong(134)"
   ]
  },
  {
   "cell_type": "code",
   "execution_count": null,
   "id": "9739dccd",
   "metadata": {},
   "outputs": [],
   "source": [
    "'5. Write a Python Program to Find Armstrong Number in an Interval?'"
   ]
  },
  {
   "cell_type": "code",
   "execution_count": 25,
   "id": "70f54f25",
   "metadata": {},
   "outputs": [
    {
     "name": "stdout",
     "output_type": "stream",
     "text": [
      "153\n"
     ]
    }
   ],
   "source": [
    "def find_armstrong_numbers_in_interval(a,b):\n",
    "    \n",
    "    for number in range(a,b+1):\n",
    "        temp = number #assigning number to temp variable\n",
    "        sum = 0       #calculating sum\n",
    "    \n",
    "        while(temp>0):\n",
    "            sum = sum + (temp%10)**3\n",
    "            temp = int(temp/10)\n",
    "        \n",
    "        if number == sum:\n",
    "            print(number)\n",
    "        else:\n",
    "            continue\n",
    "            \n",
    "find_armstrong_numbers_in_interval(10,160)"
   ]
  },
  {
   "cell_type": "code",
   "execution_count": null,
   "id": "8c5aab06",
   "metadata": {},
   "outputs": [],
   "source": [
    "'6. Write a Python Program to Find the Sum of Natural Numbers?'"
   ]
  },
  {
   "cell_type": "code",
   "execution_count": 26,
   "id": "bbb2bb91",
   "metadata": {},
   "outputs": [
    {
     "name": "stdout",
     "output_type": "stream",
     "text": [
      "55\n",
      "1275\n"
     ]
    }
   ],
   "source": [
    "def sum_of_nutural_numbers(n):\n",
    "    sum = 0\n",
    "    for i in range(1,n+1):\n",
    "        sum = sum + i\n",
    "    return sum\n",
    "\n",
    "print(sum_of_nutural_numbers(10))\n",
    "print(sum_of_nutural_numbers(50))"
   ]
  }
 ],
 "metadata": {
  "kernelspec": {
   "display_name": "Python 3",
   "language": "python",
   "name": "python3"
  },
  "language_info": {
   "codemirror_mode": {
    "name": "ipython",
    "version": 3
   },
   "file_extension": ".py",
   "mimetype": "text/x-python",
   "name": "python",
   "nbconvert_exporter": "python",
   "pygments_lexer": "ipython3",
   "version": "3.8.8"
  }
 },
 "nbformat": 4,
 "nbformat_minor": 5
}
