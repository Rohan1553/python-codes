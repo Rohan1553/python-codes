{
 "cells": [
  {
   "cell_type": "code",
   "execution_count": null,
   "id": "62a6b490",
   "metadata": {},
   "outputs": [],
   "source": [
    "'''\n",
    "Name - Rohan V. patel\n",
    "Email - rohanpatel1552003@gmail.com\n",
    "\n",
    "\n",
    "Programming Assignment 7\n",
    "'''"
   ]
  },
  {
   "cell_type": "code",
   "execution_count": null,
   "id": "41acc80a",
   "metadata": {},
   "outputs": [],
   "source": [
    "'1. Write a Python Program to find sum of array?'"
   ]
  },
  {
   "cell_type": "code",
   "execution_count": 2,
   "id": "f7e5c64f",
   "metadata": {},
   "outputs": [
    {
     "name": "stdout",
     "output_type": "stream",
     "text": [
      "36\n"
     ]
    }
   ],
   "source": [
    "def sum_of_array(arr):\n",
    "    sum = 0\n",
    "    for i in range(len(arr)):\n",
    "        sum = sum + arr[i]\n",
    "    return sum\n",
    "\n",
    "array = [1,2,3,4,5,6,7,8]\n",
    "print(sum_of_array(array))"
   ]
  },
  {
   "cell_type": "code",
   "execution_count": null,
   "id": "c5eb1cbf",
   "metadata": {},
   "outputs": [],
   "source": [
    "'2. Write a Python Program to find largest element in an array?'"
   ]
  },
  {
   "cell_type": "code",
   "execution_count": 3,
   "id": "a2b53236",
   "metadata": {},
   "outputs": [
    {
     "name": "stdout",
     "output_type": "stream",
     "text": [
      "43\n"
     ]
    }
   ],
   "source": [
    "def max_ele_in_array(array):\n",
    "    max_ele = array[0]\n",
    "    for i in range(len(array)):\n",
    "        if array[i] > max_ele:\n",
    "            max_ele = array[i]\n",
    "    return max_ele\n",
    "\n",
    "array = [1,3,2,7,9,43,4,6]\n",
    "print(max_ele_in_array(array))"
   ]
  },
  {
   "cell_type": "code",
   "execution_count": null,
   "id": "c6b2b940",
   "metadata": {},
   "outputs": [],
   "source": [
    "'3. Write a Python Program for array rotation?'"
   ]
  },
  {
   "cell_type": "code",
   "execution_count": 16,
   "id": "cc0a2ae1",
   "metadata": {},
   "outputs": [
    {
     "name": "stdout",
     "output_type": "stream",
     "text": [
      "[2, 6, 1, 0, 4, 7]\n",
      "[4, 7, 2, 6, 1, 0]\n"
     ]
    }
   ],
   "source": [
    "def rotate_array(array, how = 'left', pos = 0):#this function rotates array in left or right position for given pos.\n",
    "    if how == 'left':\n",
    "        left_part = array[pos:]\n",
    "        right_part = array[:pos]\n",
    "        return left_part + right_part\n",
    "    elif how == 'right':\n",
    "        left_part = array[:len(array)-pos]\n",
    "        right_part = array[len(array)-pos:]\n",
    "        return right_part + left_part\n",
    "    else:\n",
    "        return\n",
    "    \n",
    "array = [7,2,6,1,0,4]\n",
    "print(rotate_array(array,pos=1)) #rotates 1 position left\n",
    "print(rotate_array(array,how='right',pos=1))#rotates 1 position right"
   ]
  },
  {
   "cell_type": "code",
   "execution_count": 17,
   "id": "a0ee3ba0",
   "metadata": {},
   "outputs": [
    {
     "data": {
      "text/plain": [
       "'4. Write a Python Program to Split the array and add the first part to the end?'"
      ]
     },
     "execution_count": 17,
     "metadata": {},
     "output_type": "execute_result"
    }
   ],
   "source": [
    "'4. Write a Python Program to Split the array and add the first part to the end?'"
   ]
  },
  {
   "cell_type": "code",
   "execution_count": 18,
   "id": "0711d1b7",
   "metadata": {},
   "outputs": [
    {
     "name": "stdout",
     "output_type": "stream",
     "text": [
      "[6, 1, 0, 4, 7, 2]\n"
     ]
    }
   ],
   "source": [
    "def split_array(array,pos_of_split):\n",
    "    if pos_of_split < len(array):\n",
    "        left_part = array[:pos_of_split]\n",
    "        right_part = array[pos_of_split:]\n",
    "        return right_part + left_part\n",
    "    else:\n",
    "        print('Index out of range.')\n",
    "        \n",
    "array = [7,2,6,1,0,4]\n",
    "print(split_array(array, 2))"
   ]
  },
  {
   "cell_type": "code",
   "execution_count": null,
   "id": "f8fc07c5",
   "metadata": {},
   "outputs": [],
   "source": [
    "'5. Write a Python Program to check if given array is Monotonic?'"
   ]
  },
  {
   "cell_type": "code",
   "execution_count": 20,
   "id": "03587bea",
   "metadata": {},
   "outputs": [
    {
     "name": "stdout",
     "output_type": "stream",
     "text": [
      "Given array is monotonically increasing\n",
      "1\n",
      "Given array is monotonically decreasing\n",
      "1\n",
      "Array is not monotonic\n",
      "0\n"
     ]
    }
   ],
   "source": [
    "#given array is monotonic if all array numbers are continuously increasing or continuously decreasing\n",
    "def check_for_monotonic(array):\n",
    "    flag = 0\n",
    "    i = 0\n",
    "    j = 1\n",
    "    while(j < len(array)):\n",
    "        if array[i] < array[j]:\n",
    "            flag = 1\n",
    "        else: \n",
    "            flag = 0\n",
    "            break\n",
    "        i = i + 1\n",
    "        j = j + 1\n",
    "            \n",
    "    if flag == 1:\n",
    "        print('Given array is monotonically increasing')\n",
    "        return 1\n",
    "    \n",
    "    flag = 0\n",
    "    i = 0\n",
    "    j = 1\n",
    "    while(j < len(array)):\n",
    "        if array[i] > array[j]:\n",
    "            flag = 1\n",
    "        else: \n",
    "            flag = 0\n",
    "            break\n",
    "        i = i + 1\n",
    "        j = j + 1\n",
    "        \n",
    "    if flag == 1:\n",
    "        print('Given array is monotonically decreasing')\n",
    "        return 1\n",
    "    \n",
    "    print('Array is not monotonic')\n",
    "    return 0\n",
    "\n",
    "array1 = [1,2,3,4,5,6]\n",
    "array2 = [9,8,7,6,5,4]\n",
    "array3 = [1,3,5,2,6,4]\n",
    "\n",
    "print(check_for_monotonic(array1))\n",
    "print(check_for_monotonic(array2))\n",
    "print(check_for_monotonic(array3))"
   ]
  }
 ],
 "metadata": {
  "kernelspec": {
   "display_name": "Python 3",
   "language": "python",
   "name": "python3"
  },
  "language_info": {
   "codemirror_mode": {
    "name": "ipython",
    "version": 3
   },
   "file_extension": ".py",
   "mimetype": "text/x-python",
   "name": "python",
   "nbconvert_exporter": "python",
   "pygments_lexer": "ipython3",
   "version": "3.8.8"
  }
 },
 "nbformat": 4,
 "nbformat_minor": 5
}
