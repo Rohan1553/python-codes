{
 "cells": [
  {
   "cell_type": "code",
   "execution_count": null,
   "id": "c1bf47e1",
   "metadata": {},
   "outputs": [],
   "source": [
    "'''\n",
    "Name - Rohan V. patel\n",
    "Email - rohanpatel1552003@gmail.com\n",
    "\n",
    "\n",
    "Programming Assignment 1\n",
    "'''"
   ]
  },
  {
   "cell_type": "code",
   "execution_count": null,
   "id": "f5f0f50d",
   "metadata": {},
   "outputs": [],
   "source": [
    "'1. Write a Python program to convert kilometers to miles?'"
   ]
  },
  {
   "cell_type": "code",
   "execution_count": 2,
   "id": "e451b617",
   "metadata": {},
   "outputs": [
    {
     "name": "stdout",
     "output_type": "stream",
     "text": [
      "6.21\n"
     ]
    }
   ],
   "source": [
    "kilometers_to_miles_ratio = 0.621371 #relation between kilometers and miles\n",
    "\n",
    "def kilometers_to_miles(kms):\n",
    "    return kms*kilometers_to_miles_ratio\n",
    "\n",
    "km = 10 #10 kilometer\n",
    "miles = kilometers_to_miles(km)\n",
    "print(round(miles,2))"
   ]
  },
  {
   "cell_type": "code",
   "execution_count": null,
   "id": "a69ec455",
   "metadata": {},
   "outputs": [],
   "source": [
    "'2. Write a Python program to convert Celsius to Fahrenheit?'"
   ]
  },
  {
   "cell_type": "code",
   "execution_count": 3,
   "id": "c5d0360d",
   "metadata": {},
   "outputs": [
    {
     "name": "stdout",
     "output_type": "stream",
     "text": [
      "41.0\n"
     ]
    }
   ],
   "source": [
    "def celcius_to_farenheit(celcius):\n",
    "    return ((celcius*9)/5) + 32\n",
    "\n",
    "celcius = 5 #celcius value\n",
    "farenheit = celcius_to_farenheit(celcius)\n",
    "print(farenheit)"
   ]
  },
  {
   "cell_type": "code",
   "execution_count": null,
   "id": "1ce668a9",
   "metadata": {},
   "outputs": [],
   "source": [
    "'3. Write a Python program to display calendar?'"
   ]
  },
  {
   "cell_type": "code",
   "execution_count": 4,
   "id": "96278af6",
   "metadata": {},
   "outputs": [
    {
     "name": "stdout",
     "output_type": "stream",
     "text": [
      "   November 2022\n",
      "Mo Tu We Th Fr Sa Su\n",
      "    1  2  3  4  5  6\n",
      " 7  8  9 10 11 12 13\n",
      "14 15 16 17 18 19 20\n",
      "21 22 23 24 25 26 27\n",
      "28 29 30\n",
      "\n"
     ]
    }
   ],
   "source": [
    "import calendar #python has an inbuilt module names calendar,it canbe used to fetch calender data\n",
    "\n",
    "year = 2022 #we will give year value as 2022\n",
    "month = 11 #month as November\n",
    "\n",
    "# display the calendar\n",
    "print(calendar.month(year,month)) #calendar.month() function takes two argument year and month and produces calendar for given month and year\n"
   ]
  },
  {
   "cell_type": "code",
   "execution_count": null,
   "id": "f22d1bb4",
   "metadata": {},
   "outputs": [],
   "source": [
    "'4. Write a Python program to solve quadratic equation?'"
   ]
  },
  {
   "cell_type": "code",
   "execution_count": 9,
   "id": "d2562d30",
   "metadata": {},
   "outputs": [
    {
     "name": "stdout",
     "output_type": "stream",
     "text": [
      "There exists two real solutions:\n",
      "\n",
      "first:\n",
      "3.0\n",
      "\n",
      "second:\n",
      "2.0\n"
     ]
    }
   ],
   "source": [
    "#let's take a quadratic equation as follows:\n",
    "# x^2 - 5x + 6 = 0 ,solutions will be 2,3\n",
    "#we will provide equation a,b and c values here a=1,b=-5,c=6\n",
    "\n",
    "import numpy as np\n",
    "\n",
    "a = 1\n",
    "b = -5\n",
    "c = 6\n",
    "\n",
    "def solve_quadratic_equation(a,b,c):\n",
    "    delta = np.sqrt(b**2 - 4*a*c)\n",
    "    \n",
    "    if delta >= 0:\n",
    "        print('There exists two real solutions:\\n')\n",
    "        print('first:')\n",
    "        print((-b + delta)/(2*a))\n",
    "        print('\\nsecond:')\n",
    "        print((-b - delta)/(2*a))\n",
    "    else:\n",
    "        print('There is no real solutins for given quadratic equation')\n",
    "        \n",
    "solve_quadratic_equation(a,b,c)"
   ]
  },
  {
   "cell_type": "code",
   "execution_count": 10,
   "id": "31e119d1",
   "metadata": {},
   "outputs": [
    {
     "data": {
      "text/plain": [
       "'5. Write a Python program to swap two variables without temp variable?'"
      ]
     },
     "execution_count": 10,
     "metadata": {},
     "output_type": "execute_result"
    }
   ],
   "source": [
    "'5. Write a Python program to swap two variables without temp variable?'"
   ]
  },
  {
   "cell_type": "code",
   "execution_count": 11,
   "id": "b73629af",
   "metadata": {},
   "outputs": [
    {
     "name": "stdout",
     "output_type": "stream",
     "text": [
      "10\n",
      "5\n"
     ]
    }
   ],
   "source": [
    "a = 5\n",
    "b = 10\n",
    "\n",
    "a, b = b, a\n",
    "print(a)\n",
    "print(b)"
   ]
  }
 ],
 "metadata": {
  "kernelspec": {
   "display_name": "Python 3",
   "language": "python",
   "name": "python3"
  },
  "language_info": {
   "codemirror_mode": {
    "name": "ipython",
    "version": 3
   },
   "file_extension": ".py",
   "mimetype": "text/x-python",
   "name": "python",
   "nbconvert_exporter": "python",
   "pygments_lexer": "ipython3",
   "version": "3.8.8"
  }
 },
 "nbformat": 4,
 "nbformat_minor": 5
}
