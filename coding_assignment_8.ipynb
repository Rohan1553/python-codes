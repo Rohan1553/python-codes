{
 "cells": [
  {
   "cell_type": "code",
   "execution_count": null,
   "id": "d0474935",
   "metadata": {},
   "outputs": [],
   "source": [
    "'''\n",
    "Name - Rohan V. patel\n",
    "Email - rohanpatel1552003@gmail.com\n",
    "\n",
    "\n",
    "Programming Assignment 8\n",
    "'''"
   ]
  },
  {
   "cell_type": "code",
   "execution_count": null,
   "id": "e915a23d",
   "metadata": {},
   "outputs": [],
   "source": [
    "'1. Write a Python Program to Add Two Matrices?'"
   ]
  },
  {
   "cell_type": "code",
   "execution_count": 13,
   "id": "49697927",
   "metadata": {},
   "outputs": [
    {
     "name": "stdout",
     "output_type": "stream",
     "text": [
      "(3, 3)\n",
      "(3, 3)\n",
      "[[10 10 10]\n",
      " [10 10 10]\n",
      " [10 10 10]]\n"
     ]
    }
   ],
   "source": [
    "import numpy as np\n",
    "\n",
    "def add_two_matrices(matrice_a, matrice_b):\n",
    "    if matrice_a.shape == matrice_b.shape:\n",
    "        return matrice_a + matrice_b\n",
    "\n",
    "matrice_a = np.array([[1,2,3],\n",
    "                      [4,5,6],\n",
    "                      [7,8,9]])\n",
    "matrice_b = np.array([[9,8,7],\n",
    "                      [6,5,4],\n",
    "                      [3,2,1]])\n",
    "\n",
    "print(matrice_a.shape)\n",
    "print(matrice_b.shape)\n",
    "print(add_two_matrices(matrice_a, matrice_b))"
   ]
  },
  {
   "cell_type": "code",
   "execution_count": null,
   "id": "07a5b338",
   "metadata": {},
   "outputs": [],
   "source": [
    "'2. Write a Python Program to Multiply Two Matrices?'"
   ]
  },
  {
   "cell_type": "code",
   "execution_count": 15,
   "id": "007c15de",
   "metadata": {},
   "outputs": [
    {
     "name": "stdout",
     "output_type": "stream",
     "text": [
      "[[ 30  24  18]\n",
      " [ 84  69  54]\n",
      " [138 114  90]]\n"
     ]
    }
   ],
   "source": [
    "matrice_a = np.array([[1,2,3],\n",
    "                      [4,5,6],\n",
    "                      [7,8,9]])\n",
    "matrice_b = np.array([[9,8,7],\n",
    "                      [6,5,4],\n",
    "                      [3,2,1]])\n",
    "\n",
    "def matrice_multiplication(matrice_a, matrice_b):\n",
    "    return np.matmul(matrice_a,matrice_b)\n",
    "\n",
    "print(matrice_multiplication(matrice_a, matrice_b))"
   ]
  },
  {
   "cell_type": "code",
   "execution_count": null,
   "id": "f893d281",
   "metadata": {},
   "outputs": [],
   "source": [
    "'3. Write a Python Program to Transpose a Matrix?'"
   ]
  },
  {
   "cell_type": "code",
   "execution_count": 16,
   "id": "5935e98e",
   "metadata": {},
   "outputs": [
    {
     "name": "stdout",
     "output_type": "stream",
     "text": [
      "[[1 4 7]\n",
      " [2 5 8]\n",
      " [3 6 9]]\n"
     ]
    }
   ],
   "source": [
    "def transpose(matrice):\n",
    "    return matrice.T\n",
    "\n",
    "matrice = np.array([[1,2,3],\n",
    "                    [4,5,6],\n",
    "                    [7,8,9]])\n",
    "print(transpose(matrice))"
   ]
  },
  {
   "cell_type": "code",
   "execution_count": null,
   "id": "3efb3231",
   "metadata": {},
   "outputs": [],
   "source": [
    "'4. Write a Python Program to Sort Words in Alphabetic Order?'"
   ]
  },
  {
   "cell_type": "code",
   "execution_count": 17,
   "id": "a66c7b98",
   "metadata": {},
   "outputs": [
    {
     "name": "stdout",
     "output_type": "stream",
     "text": [
      "['Adam', 'Drake', 'Harry', 'Mighty', 'Ninja', 'Zayn']\n"
     ]
    }
   ],
   "source": [
    "word_array = ['Zayn','Harry','Ninja','Drake','Adam','Mighty']\n",
    "\n",
    "def sort_wordarray(word_array):\n",
    "    return sorted(word_array)\n",
    "\n",
    "print(sort_wordarray(word_array))"
   ]
  },
  {
   "cell_type": "code",
   "execution_count": null,
   "id": "be433474",
   "metadata": {},
   "outputs": [],
   "source": [
    "'5. Write a Python Program to Remove Punctuation From a String?'"
   ]
  },
  {
   "cell_type": "code",
   "execution_count": 49,
   "id": "9fea98ab",
   "metadata": {},
   "outputs": [
    {
     "name": "stdout",
     "output_type": "stream",
     "text": [
      "\n",
      "          for n0 n  lettas n\n",
      "\n",
      "subarra  arrcountcharstart array\n",
      "size  sizeofsubarra\n",
      "\n",
      "if size  0\n",
      "\n",
      "rnd  mtrand0 size1\n",
      "chars  subarrarnd\n",
      "substr  substrchars order1 1\n",
      "start  substrstart 1 strlenstart1  substr\n",
      "\n",
      " Prints a new line if the char return code is present\n",
      "if substr  r\n",
      "echo \n",
      "\n",
      "else\n",
      "echo substr\n",
      "\n",
      "\n",
      "\n"
     ]
    }
   ],
   "source": [
    "string_1  = '''\n",
    "          for ($n=0; $n < $lettas; $n++)\n",
    "{\n",
    "$subarra = arr_count_char($start, $array);\n",
    "$size = sizeof($subarra);\n",
    "\n",
    "if ($size > 0)\n",
    "{\n",
    "$rnd = mt_rand(0, $size-1);\n",
    "$chars = $subarra[$rnd];\n",
    "$substr = substr($chars, $order-1, 1);\n",
    "$start = substr($start, 1, strlen($start)-1) . $substr;\n",
    "\n",
    "// Prints a new line if the char return code is present.\n",
    "if ($substr == \"r\")\n",
    "echo \"\n",
    "\";\n",
    "else\n",
    "echo $substr;\n",
    "\n",
    "}\n",
    "'''\n",
    "\n",
    "import string \n",
    "string_1 = string_1.translate(str.maketrans('', '', string.punctuation))\n",
    "\n",
    "print(string_1)"
   ]
  }
 ],
 "metadata": {
  "kernelspec": {
   "display_name": "Python 3",
   "language": "python",
   "name": "python3"
  },
  "language_info": {
   "codemirror_mode": {
    "name": "ipython",
    "version": 3
   },
   "file_extension": ".py",
   "mimetype": "text/x-python",
   "name": "python",
   "nbconvert_exporter": "python",
   "pygments_lexer": "ipython3",
   "version": "3.8.8"
  }
 },
 "nbformat": 4,
 "nbformat_minor": 5
}
