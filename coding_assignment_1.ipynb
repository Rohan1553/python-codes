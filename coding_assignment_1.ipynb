{
 "cells": [
  {
   "cell_type": "code",
   "execution_count": null,
   "id": "0b1ebe86",
   "metadata": {},
   "outputs": [],
   "source": [
    "'''\n",
    "Name - Rohan V. patel\n",
    "Email - rohanpatel1552003@gmail.com\n",
    "\n",
    "\n",
    "Programming Assignment 1\n",
    "'''"
   ]
  },
  {
   "cell_type": "code",
   "execution_count": null,
   "id": "6bfbca6d",
   "metadata": {},
   "outputs": [],
   "source": [
    "'1. Write a Python program to print \"Hello Python\" ?'"
   ]
  },
  {
   "cell_type": "code",
   "execution_count": 1,
   "id": "a9bd258d",
   "metadata": {},
   "outputs": [
    {
     "name": "stdout",
     "output_type": "stream",
     "text": [
      "Hello Python\n"
     ]
    }
   ],
   "source": [
    "print('Hello Python')"
   ]
  },
  {
   "cell_type": "code",
   "execution_count": null,
   "id": "57ec4573",
   "metadata": {},
   "outputs": [],
   "source": [
    "'2. Write a Python program to do arithmetical operations addition and division.?'"
   ]
  },
  {
   "cell_type": "code",
   "execution_count": 3,
   "id": "61c8c6af",
   "metadata": {},
   "outputs": [
    {
     "name": "stdout",
     "output_type": "stream",
     "text": [
      "5\n",
      "1\n"
     ]
    }
   ],
   "source": [
    "print(2+3)\n",
    "print(3-2)"
   ]
  },
  {
   "cell_type": "code",
   "execution_count": null,
   "id": "d239a4fb",
   "metadata": {},
   "outputs": [],
   "source": [
    "'3. Write a Python program to find the area of a triangle?'"
   ]
  },
  {
   "cell_type": "code",
   "execution_count": 5,
   "id": "8fd05c19",
   "metadata": {},
   "outputs": [
    {
     "name": "stdout",
     "output_type": "stream",
     "text": [
      "50.0\n"
     ]
    }
   ],
   "source": [
    "b = 10 #base\n",
    "h = 10 #height\n",
    "area = (h*b)/2\n",
    "print(area)"
   ]
  },
  {
   "cell_type": "code",
   "execution_count": null,
   "id": "c376fd2e",
   "metadata": {},
   "outputs": [],
   "source": [
    "'4. Write a Python program to swap two variables?'"
   ]
  },
  {
   "cell_type": "code",
   "execution_count": 6,
   "id": "00e4d4c8",
   "metadata": {},
   "outputs": [
    {
     "name": "stdout",
     "output_type": "stream",
     "text": [
      "5\n",
      "10\n"
     ]
    }
   ],
   "source": [
    "a = 10\n",
    "b = 5\n",
    "a, b = b, a\n",
    "print(a)\n",
    "print(b)"
   ]
  },
  {
   "cell_type": "code",
   "execution_count": null,
   "id": "b130e75b",
   "metadata": {},
   "outputs": [],
   "source": [
    "'5. Write a Python program to generate a random number?'"
   ]
  },
  {
   "cell_type": "code",
   "execution_count": 10,
   "id": "c6d75db3",
   "metadata": {},
   "outputs": [
    {
     "name": "stdout",
     "output_type": "stream",
     "text": [
      "0.4238530609120468\n"
     ]
    }
   ],
   "source": [
    "import random \n",
    "n = random.random() #random.random() function generates a float number between 0 and 1\n",
    "print(n)"
   ]
  }
 ],
 "metadata": {
  "kernelspec": {
   "display_name": "Python 3",
   "language": "python",
   "name": "python3"
  },
  "language_info": {
   "codemirror_mode": {
    "name": "ipython",
    "version": 3
   },
   "file_extension": ".py",
   "mimetype": "text/x-python",
   "name": "python",
   "nbconvert_exporter": "python",
   "pygments_lexer": "ipython3",
   "version": "3.8.8"
  }
 },
 "nbformat": 4,
 "nbformat_minor": 5
}
